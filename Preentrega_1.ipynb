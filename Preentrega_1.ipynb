{
 "cells": [
  {
   "cell_type": "markdown",
   "id": "66dd182a-47e9-4ab1-ac20-45dbbe1674d2",
   "metadata": {},
   "source": [
    "## Preentrega_1  -  Idea Alquímica: Tejiendo el Futuro con Prompt Engineering"
   ]
  },
  {
   "cell_type": "markdown",
   "id": "7e9520c1-bef3-4ef9-ad28-a2abf215db38",
   "metadata": {},
   "source": [
    "Deberás desarrollar y presentar tu propuesta para el Proyecto Final: a qué tipo de puestos debe aplicar un postulante en función de su experiencia y seniority.\n"
   ]
  },
  {
   "cell_type": "markdown",
   "id": "ac9415d3-eb74-4058-aa5b-d8a64861580d",
   "metadata": {},
   "source": [
    "# Consigna\n",
    "\n",
    "**Portada**\n",
    "\n",
    "Nombre y apellido del autor: Bruno Toscano\n",
    "Nombre del curso: Inteligencia artificial: Generación de Prompts\n",
    "Nª de comisión : 65805\n",
    "Nombre del proyecto: Recomendación de postulación en base a tu experiencia laboral.\n",
    "\n",
    "**Presentación del problema a abordar:**\n",
    "\n",
    "El problema es a que tipo de pocisiónes debería una persona aplicar en función de su experiencia pero teniendo en cuenta aqueyos trabajos mejor remunerados. Es una problemática porque es difícil saber donde buscar trabajo dado la gran cantidad de pocisiones para las que pueden aplicar similares perfiles.\n",
    "\n",
    "**Desarrollo de la propuesta de solución:**\n",
    "\n",
    "Le pediré a chatgpt que en función del cv me recomiende a que trabajos aplicar.\n",
    "\n",
    "**Justificación de la viabilidad del proyecto:**\n",
    "\n",
    "Es posible hacer estas consultas a chatgpt porque no demandan muchos tokens."
   ]
  }
 ],
 "metadata": {
  "kernelspec": {
   "display_name": "Python 3 (ipykernel)",
   "language": "python",
   "name": "python3"
  },
  "language_info": {
   "codemirror_mode": {
    "name": "ipython",
    "version": 3
   },
   "file_extension": ".py",
   "mimetype": "text/x-python",
   "name": "python",
   "nbconvert_exporter": "python",
   "pygments_lexer": "ipython3",
   "version": "3.12.2"
  }
 },
 "nbformat": 4,
 "nbformat_minor": 5
}
